{
 "cells": [
  {
   "cell_type": "markdown",
   "metadata": {},
   "source": [
    "# Special Methods (__init__, __str__, __repr__, etc.)\n",
    "\n",
    "In this notebook, we'll explore special methods in Python classes, which allow us to define how objects are initialized, represented, and interacted with. We'll illustrate these concepts with examples relevant to data science.\n",
    "\n",
    "## Table of Contents\n",
    "\n",
    "1. [Introduction to Special Methods](#1)\n",
    "2. []\n",
    "    __init__: Object Initialization\n",
    "    __str__ and __repr__: Object Representation\n",
    "    Other Useful Special Methods\n",
    "        __class__\n",
    "        __dict__\n",
    "        __bases__\n",
    "    Example: DataFrame Wrapper Class"
   ]
  },
  {
   "cell_type": "markdown",
   "metadata": {},
   "source": [
    "---\n",
    "1. Introduction to Special Methods <a id=\"1\"></a>\n",
    "\n",
    "Special methods in Python, also known as dunder methods (double underscore methods), allow us to define the behavior of objects for built-in functions and operators. These methods are defined with double underscores before and after their names (e.g., __init__, __str__).\n"
   ]
  },
  {
   "cell_type": "markdown",
   "metadata": {},
   "source": [
    "---\n",
    "2. __init__: Object Initialization <a id=\"2\"></a>\n",
    "\n",
    "The __init__ method is called when an object is instantiated. It's used to initialize the object's attributes.\n",
    "Example\n",
    "\n",
    "python\n",
    "\n",
    "class DataScientist:\n",
    "    def __init__(self, name, expertise_level):\n",
    "        self.name = name\n",
    "        self.expertise_level = expertise_level\n",
    "\n",
    "ds = DataScientist(\"Alice\", \"Senior\")\n",
    "print(ds.name, ds.expertise_level)\n",
    "\n",
    "In this example, the __init__ method initializes the name and expertise_level attributes of the DataScientist object."
   ]
  },
  {
   "cell_type": "markdown",
   "metadata": {},
   "source": [
    "---\n",
    "3. __str__ and __repr__: Object Representation <a id=\"3\"></a>\n",
    "\n",
    "The __str__ method defines the string representation of an object, intended to be readable. The __repr__ method defines the official string representation of an object, intended to be unambiguous.\n",
    "Example\n",
    "\n",
    "python\n",
    "\n",
    "class DataScientist:\n",
    "    def __init__(self, name, expertise_level):\n",
    "        self.name = name\n",
    "        self.expertise_level = expertise_level\n",
    "    \n",
    "    def __str__(self):\n",
    "        return f\"DataScientist: {self.name}, Level: {self.expertise_level}\"\n",
    "    \n",
    "    def __repr__(self):\n",
    "        return f\"DataScientist(name='{self.name}', expertise_level='{self.expertise_level}')\"\n",
    "\n",
    "ds = DataScientist(\"Alice\", \"Senior\")\n",
    "print(str(ds))  # Calls __str__\n",
    "print(repr(ds))  # Calls __repr__\n",
    "\n",
    "In this example, __str__ provides a readable string representation, while __repr__ provides a more detailed and unambiguous string representation."
   ]
  },
  {
   "cell_type": "markdown",
   "metadata": {},
   "source": [
    "---\n",
    "## 4. Other Useful Special Methods <a id=\"4\"></a>\n",
    "\n",
    "###4.1 __class__ <a id=\"4.1\"></a>\n",
    "\n",
    "The __class__ attribute returns the class of an instance.\n",
    "Example\n",
    "\n",
    "python\n",
    "\n",
    "ds = DataScientist(\"Alice\", \"Senior\")\n",
    "print(ds.__class__)\n",
    "\n",
    "### 4.2 __dict__ <a id=\"4.2\"></a>\n",
    "\n",
    "The __dict__ attribute returns a dictionary representation of an object's attributes.\n",
    "Example\n",
    "\n",
    "python\n",
    "\n",
    "print(ds.__dict__)\n",
    "\n",
    "### 4.3 __bases__ <a id=\"4.3\"></a>\n",
    "\n",
    "The __bases__ attribute returns a tuple containing the base classes of a class.\n",
    "Example\n",
    "\n",
    "python\n",
    "\n",
    "print(DataScientist.__bases__)"
   ]
  },
  {
   "cell_type": "markdown",
   "metadata": {},
   "source": [
    "---\n",
    "5. Example: DataFrame Wrapper Class <a id=\"5\"></a>\n",
    "\n",
    "Let's create a more comprehensive example by implementing a DataFrame wrapper class that uses various special methods.\n",
    "Step-by-Step Example"
   ]
  },
  {
   "cell_type": "code",
   "execution_count": null,
   "metadata": {
    "vscode": {
     "languageId": "plaintext"
    }
   },
   "outputs": [],
   "source": [
    "import pandas as pd\n",
    "\n",
    "class DataFrameWrapper:\n",
    "    def __init__(self, data):\n",
    "        self._data = pd.DataFrame(data)\n",
    "    \n",
    "    def __str__(self):\n",
    "        return f\"DataFrameWrapper with {len(self._data)} rows and {len(self._data.columns)} columns\"\n",
    "    \n",
    "    def __repr__(self):\n",
    "        return f\"DataFrameWrapper(data={self._data.to_dict()})\"\n",
    "    \n",
    "    def __getitem__(self, key):\n",
    "        return self._data[key]\n",
    "    \n",
    "    def __setitem__(self, key, value):\n",
    "        self._data[key] = value\n",
    "    \n",
    "    def __len__(self):\n",
    "        return len(self._data)\n",
    "\n",
    "# Usage\n",
    "data = {\n",
    "    'age': [25, 30, 35, 40],\n",
    "    'salary': [50000, 60000, 70000, 80000]\n",
    "}\n",
    "df_wrapper = DataFrameWrapper(data)\n",
    "\n",
    "# Using special methods\n",
    "print(str(df_wrapper))  # __str__\n",
    "print(repr(df_wrapper))  # __repr__\n",
    "print(df_wrapper['age'])  # __getitem__\n",
    "df_wrapper['salary'] = [52000, 62000, 72000, 82000]  # __setitem__\n",
    "print(len(df_wrapper))  # __len__\n",
    "print(df_wrapper.__class__)  # __class__\n",
    "print(df_wrapper.__dict__)  # __dict__\n",
    "print(DataFrameWrapper.__bases__)  # __bases__"
   ]
  },
  {
   "cell_type": "markdown",
   "metadata": {},
   "source": [
    "\n",
    "Explanation\n",
    "\n",
    "    Initialization (__init__): Initializes the DataFrame with the provided data.\n",
    "    String Representation (__str__ and __repr__): Provides readable and detailed string representations.\n",
    "    Item Access (__getitem__ and __setitem__): Allows accessing and modifying DataFrame columns using bracket notation.\n",
    "    Length (__len__): Returns the number of rows in the DataFrame.\n",
    "    Class and Attribute Dictionary (__class__ and __dict__): Demonstrates the use of special attributes to access class information and attribute dictionaries."
   ]
  }
 ],
 "metadata": {
  "language_info": {
   "name": "python"
  }
 },
 "nbformat": 4,
 "nbformat_minor": 2
}
